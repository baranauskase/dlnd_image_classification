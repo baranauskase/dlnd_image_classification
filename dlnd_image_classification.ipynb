{
 "cells": [
  {
   "cell_type": "markdown",
   "metadata": {
    "collapsed": true,
    "deletable": true,
    "editable": true
   },
   "source": [
    "# Image Classification\n",
    "In this project, you'll classify images from the [CIFAR-10 dataset](https://www.cs.toronto.edu/~kriz/cifar.html).  The dataset consists of airplanes, dogs, cats, and other objects. You'll preprocess the images, then train a convolutional neural network on all the samples. The images need to be normalized and the labels need to be one-hot encoded.  You'll get to apply what you learned and build a convolutional, max pooling, dropout, and fully connected layers.  At the end, you'll get to see your neural network's predictions on the sample images.\n",
    "## Get the Data\n",
    "Run the following cell to download the [CIFAR-10 dataset for python](https://www.cs.toronto.edu/~kriz/cifar-10-python.tar.gz)."
   ]
  },
  {
   "cell_type": "code",
   "execution_count": 1,
   "metadata": {
    "collapsed": false,
    "deletable": true,
    "editable": true
   },
   "outputs": [
    {
     "name": "stdout",
     "output_type": "stream",
     "text": [
      "All files found!\n"
     ]
    }
   ],
   "source": [
    "\"\"\"\n",
    "DON'T MODIFY ANYTHING IN THIS CELL THAT IS BELOW THIS LINE\n",
    "\"\"\"\n",
    "from urllib.request import urlretrieve\n",
    "from os.path import isfile, isdir\n",
    "from tqdm import tqdm\n",
    "import problem_unittests as tests\n",
    "import tarfile\n",
    "\n",
    "cifar10_dataset_folder_path = 'cifar-10-batches-py'\n",
    "\n",
    "class DLProgress(tqdm):\n",
    "    last_block = 0\n",
    "\n",
    "    def hook(self, block_num=1, block_size=1, total_size=None):\n",
    "        self.total = total_size\n",
    "        self.update((block_num - self.last_block) * block_size)\n",
    "        self.last_block = block_num\n",
    "\n",
    "if not isfile('cifar-10-python.tar.gz'):\n",
    "    with DLProgress(unit='B', unit_scale=True, miniters=1, desc='CIFAR-10 Dataset') as pbar:\n",
    "        urlretrieve(\n",
    "            'https://www.cs.toronto.edu/~kriz/cifar-10-python.tar.gz',\n",
    "            'cifar-10-python.tar.gz',\n",
    "            pbar.hook)\n",
    "\n",
    "if not isdir(cifar10_dataset_folder_path):\n",
    "    with tarfile.open('cifar-10-python.tar.gz') as tar:\n",
    "        tar.extractall()\n",
    "        tar.close()\n",
    "\n",
    "\n",
    "tests.test_folder_path(cifar10_dataset_folder_path)"
   ]
  },
  {
   "cell_type": "markdown",
   "metadata": {
    "deletable": true,
    "editable": true
   },
   "source": [
    "## Explore the Data\n",
    "The dataset is broken into batches to prevent your machine from running out of memory.  The CIFAR-10 dataset consists of 5 batches, named `data_batch_1`, `data_batch_2`, etc.. Each batch contains the labels and images that are one of the following:\n",
    "* airplane\n",
    "* automobile\n",
    "* bird\n",
    "* cat\n",
    "* deer\n",
    "* dog\n",
    "* frog\n",
    "* horse\n",
    "* ship\n",
    "* truck\n",
    "\n",
    "Understanding a dataset is part of making predictions on the data.  Play around with the code cell below by changing the `batch_id` and `sample_id`. The `batch_id` is the id for a batch (1-5). The `sample_id` is the id for a image and label pair in the batch.\n",
    "\n",
    "Ask yourself \"What are all possible labels?\", \"What is the range of values for the image data?\", \"Are the labels in order or random?\".  Answers to questions like these will help you preprocess the data and end up with better predictions."
   ]
  },
  {
   "cell_type": "code",
   "execution_count": 2,
   "metadata": {
    "collapsed": false,
    "deletable": true,
    "editable": true
   },
   "outputs": [
    {
     "name": "stdout",
     "output_type": "stream",
     "text": [
      "\n",
      "Stats of batch 5:\n",
      "Samples: 10000\n",
      "Label Counts: {0: 1014, 1: 1014, 2: 952, 3: 1016, 4: 997, 5: 1025, 6: 980, 7: 977, 8: 1003, 9: 1022}\n",
      "First 20 Labels: [1, 8, 5, 1, 5, 7, 4, 3, 8, 2, 7, 2, 0, 1, 5, 9, 6, 2, 0, 8]\n",
      "\n",
      "Example of Image 9999:\n",
      "Image - Min Value: 4 Max Value: 255\n",
      "Image - Shape: (32, 32, 3)\n",
      "Label - Label Id: 1 Name: automobile\n"
     ]
    },
    {
     "data": {
      "image/png": "[encoded data removed]",
      "text/plain": [
       "<matplotlib.figure.Figure at 0x7fdb2076d5f8>"
      ]
     },
     "metadata": {
      "image/png": {
       "height": 250,
       "width": 253
      }
     },
     "output_type": "display_data"
    }
   ],
   "source": [
    "%matplotlib inline\n",
    "%config InlineBackend.figure_format = 'retina'\n",
    "\n",
    "import helper\n",
    "import numpy as np\n",
    "\n",
    "# Explore the dataset\n",
    "batch_id = 5\n",
    "sample_id = 9999\n",
    "helper.display_stats(cifar10_dataset_folder_path, batch_id, sample_id)"
   ]
  },
  {
   "cell_type": "markdown",
   "metadata": {
    "deletable": true,
    "editable": true
   },
   "source": [
    "## Implement Preprocess Functions\n",
    "### Normalize\n",
    "In the cell below, implement the `normalize` function to take in image data, `x`, and return it as a normalized Numpy array. The values should be in the range of 0 to 1, inclusive.  The return object should be the same shape as `x`."
   ]
  },
  {
   "cell_type": "code",
   "execution_count": 3,
   "metadata": {
    "collapsed": false,
    "deletable": true,
    "editable": true
   },
   "outputs": [
    {
     "name": "stdout",
     "output_type": "stream",
     "text": [
      "Tests Passed\n"
     ]
    }
   ],
   "source": [
    "def normalize(x):\n",
    "    \"\"\"\n",
    "    Normalize a list of sample image data in the range of 0 to 1\n",
    "    : x: List of image data.  The image shape is (32, 32, 3)\n",
    "    : return: Numpy array of normalize data\n",
    "    \"\"\"\n",
    "    \n",
    "   \n",
    "    # Generic normalization function is as follows:\n",
    "    # z = (x - min_x) / (max_x - min_x)\n",
    "    # RGB range is 0-255, so we can simplify the calculation by ignoring rgb_min\n",
    "    return x / 255\n",
    "\n",
    "\"\"\"\n",
    "DON'T MODIFY ANYTHING IN THIS CELL THAT IS BELOW THIS LINE\n",
    "\"\"\"\n",
    "tests.test_normalize(normalize)"
   ]
  },
  {
   "cell_type": "markdown",
   "metadata": {
    "deletable": true,
    "editable": true
   },
   "source": [
    "### One-hot encode\n",
    "Just like the previous code cell, you'll be implementing a function for preprocessing.  This time, you'll implement the `one_hot_encode` function. The input, `x`, are a list of labels.  Implement the function to return the list of labels as One-Hot encoded Numpy array.  The possible values for labels are 0 to 9. The one-hot encoding function should return the same encoding for each value between each call to `one_hot_encode`.  Make sure to save the map of encodings outside the function.\n",
    "\n",
    "Hint: Don't reinvent the wheel."
   ]
  },
  {
   "cell_type": "code",
   "execution_count": 4,
   "metadata": {
    "collapsed": false,
    "deletable": true,
    "editable": true
   },
   "outputs": [
    {
     "name": "stdout",
     "output_type": "stream",
     "text": [
      "Tests Passed\n"
     ]
    }
   ],
   "source": [
    "def one_hot_encode(x):\n",
    "    \"\"\"\n",
    "    One hot encode a list of sample labels. Return a one-hot encoded vector for each label.\n",
    "    : x: List of sample Labels\n",
    "    : return: Numpy array of one-hot encoded labels\n",
    "    \"\"\"\n",
    "    num_classes = 10\n",
    "    one_hot_labels = np.zeros((len(x), num_classes), dtype=np.bool)\n",
    "    one_hot_labels[np.arange(len(x)), x] = 1\n",
    "    return one_hot_labels\n",
    "\n",
    "\"\"\"\n",
    "DON'T MODIFY ANYTHING IN THIS CELL THAT IS BELOW THIS LINE\n",
    "\"\"\"\n",
    "tests.test_one_hot_encode(one_hot_encode)"
   ]
  },
  {
   "cell_type": "markdown",
   "metadata": {
    "deletable": true,
    "editable": true
   },
   "source": [
    "### Randomize Data\n",
    "As you saw from exploring the data above, the order of the samples are randomized.  It doesn't hurt to randomize it again, but you don't need to for this dataset."
   ]
  },
  {
   "cell_type": "markdown",
   "metadata": {
    "deletable": true,
    "editable": true
   },
   "source": [
    "## Preprocess all the data and save it\n",
    "Running the code cell below will preprocess all the CIFAR-10 data and save it to file. The code below also uses 10% of the training data for validation."
   ]
  },
  {
   "cell_type": "code",
   "execution_count": 5,
   "metadata": {
    "collapsed": false,
    "deletable": true,
    "editable": true
   },
   "outputs": [],
   "source": [
    "\"\"\"\n",
    "DON'T MODIFY ANYTHING IN THIS CELL\n",
    "\"\"\"\n",
    "# Preprocess Training, Validation, and Testing Data\n",
    "helper.preprocess_and_save_data(cifar10_dataset_folder_path, normalize, one_hot_encode)"
   ]
  },
  {
   "cell_type": "markdown",
   "metadata": {
    "deletable": true,
    "editable": true
   },
   "source": [
    "# Check Point\n",
    "This is your first checkpoint.  If you ever decide to come back to this notebook or have to restart the notebook, you can start from here.  The preprocessed data has been saved to disk."
   ]
  },
  {
   "cell_type": "code",
   "execution_count": 6,
   "metadata": {
    "collapsed": true,
    "deletable": true,
    "editable": true
   },
   "outputs": [],
   "source": [
    "\"\"\"\n",
    "DON'T MODIFY ANYTHING IN THIS CELL\n",
    "\"\"\"\n",
    "import pickle\n",
    "import problem_unittests as tests\n",
    "import helper\n",
    "\n",
    "# Load the Preprocessed Validation data\n",
    "valid_features, valid_labels = pickle.load(open('preprocess_validation.p', mode='rb'))"
   ]
  },
  {
   "cell_type": "markdown",
   "metadata": {
    "deletable": true,
    "editable": true
   },
   "source": [
    "## Build the network\n",
    "For the neural network, you'll build each layer into a function.  Most of the code you've seen has been outside of functions. To test your code more thoroughly, we require that you put each layer in a function.  This allows us to give you better feedback and test for simple mistakes using our unittests before you submit your project.\n",
    "\n",
    ">**Note:** If you're finding it hard to dedicate enough time for this course each week, we've provided a small shortcut to this part of the project. In the next couple of problems, you'll have the option to use classes from the [TensorFlow Layers](https://www.tensorflow.org/api_docs/python/tf/layers) or [TensorFlow Layers (contrib)](https://www.tensorflow.org/api_guides/python/contrib.layers) packages to build each layer, except the layers you build in the \"Convolutional and Max Pooling Layer\" section.  TF Layers is similar to Keras's and TFLearn's abstraction to layers, so it's easy to pickup.\n",
    "\n",
    ">However, if you would like to get the most out of this course, try to solve all the problems _without_ using anything from the TF Layers packages. You **can** still use classes from other packages that happen to have the same name as ones you find in TF Layers! For example, instead of using the TF Layers version of the `conv2d` class, [tf.layers.conv2d](https://www.tensorflow.org/api_docs/python/tf/layers/conv2d), you would want to use the TF Neural Network version of `conv2d`, [tf.nn.conv2d](https://www.tensorflow.org/api_docs/python/tf/nn/conv2d). \n",
    "\n",
    "Let's begin!\n",
    "\n",
    "### Input\n",
    "The neural network needs to read the image data, one-hot encoded labels, and dropout keep probability. Implement the following functions\n",
    "* Implement `neural_net_image_input`\n",
    " * Return a [TF Placeholder](https://www.tensorflow.org/api_docs/python/tf/placeholder)\n",
    " * Set the shape using `image_shape` with batch size set to `None`.\n",
    " * Name the TensorFlow placeholder \"x\" using the TensorFlow `name` parameter in the [TF Placeholder](https://www.tensorflow.org/api_docs/python/tf/placeholder).\n",
    "* Implement `neural_net_label_input`\n",
    " * Return a [TF Placeholder](https://www.tensorflow.org/api_docs/python/tf/placeholder)\n",
    " * Set the shape using `n_classes` with batch size set to `None`.\n",
    " * Name the TensorFlow placeholder \"y\" using the TensorFlow `name` parameter in the [TF Placeholder](https://www.tensorflow.org/api_docs/python/tf/placeholder).\n",
    "* Implement `neural_net_keep_prob_input`\n",
    " * Return a [TF Placeholder](https://www.tensorflow.org/api_docs/python/tf/placeholder) for dropout keep probability.\n",
    " * Name the TensorFlow placeholder \"keep_prob\" using the TensorFlow `name` parameter in the [TF Placeholder](https://www.tensorflow.org/api_docs/python/tf/placeholder).\n",
    "\n",
    "These names will be used at the end of the project to load your saved model.\n",
    "\n",
    "Note: `None` for shapes in TensorFlow allow for a dynamic size."
   ]
  },
  {
   "cell_type": "code",
   "execution_count": 7,
   "metadata": {
    "collapsed": false,
    "deletable": true,
    "editable": true
   },
   "outputs": [
    {
     "name": "stdout",
     "output_type": "stream",
     "text": [
      "Image Input Tests Passed.\n",
      "Label Input Tests Passed.\n",
      "Keep Prob Tests Passed.\n"
     ]
    }
   ],
   "source": [
    "import tensorflow as tf\n",
    "\n",
    "def neural_net_image_input(image_shape):\n",
    "    \"\"\"\n",
    "    Return a Tensor for a batch of image input\n",
    "    : image_shape: Shape of the images\n",
    "    : return: Tensor for image input.\n",
    "    \"\"\"\n",
    "    dimensions = (None, ) + image_shape \n",
    "    return tf.placeholder(tf.float32, dimensions, name='x')\n",
    "\n",
    "def neural_net_label_input(n_classes):\n",
    "    \"\"\"\n",
    "    Return a Tensor for a batch of label input\n",
    "    : n_classes: Number of classes\n",
    "    : return: Tensor for label input.\n",
    "    \"\"\"\n",
    "    dimensions = (None, n_classes)\n",
    "    return tf.placeholder(tf.float32, dimensions, name='y')\n",
    "\n",
    "\n",
    "def neural_net_keep_prob_input():\n",
    "    \"\"\"\n",
    "    Return a Tensor for keep probability\n",
    "    : return: Tensor for keep probability.\n",
    "    \"\"\"\n",
    "    return tf.placeholder(tf.float32, name='keep_prob')\n",
    "\n",
    "\n",
    "\"\"\"\n",
    "DON'T MODIFY ANYTHING IN THIS CELL THAT IS BELOW THIS LINE\n",
    "\"\"\"\n",
    "tf.reset_default_graph()\n",
    "tests.test_nn_image_inputs(neural_net_image_input)\n",
    "tests.test_nn_label_inputs(neural_net_label_input)\n",
    "tests.test_nn_keep_prob_inputs(neural_net_keep_prob_input)"
   ]
  },
  {
   "cell_type": "markdown",
   "metadata": {
    "deletable": true,
    "editable": true
   },
   "source": [
    "### Convolution and Max Pooling Layer\n",
    "Convolution layers have a lot of success with images. For this code cell, you should implement the function `conv2d_maxpool` to apply convolution then max pooling:\n",
    "* Create the weight and bias using `conv_ksize`, `conv_num_outputs` and the shape of `x_tensor`.\n",
    "* Apply a convolution to `x_tensor` using weight and `conv_strides`.\n",
    " * We recommend you use same padding, but you're welcome to use any padding.\n",
    "* Add bias\n",
    "* Add a nonlinear activation to the convolution.\n",
    "* Apply Max Pooling using `pool_ksize` and `pool_strides`.\n",
    " * We recommend you use same padding, but you're welcome to use any padding.\n",
    "\n",
    "**Note:** You **can't** use [TensorFlow Layers](https://www.tensorflow.org/api_docs/python/tf/layers) or [TensorFlow Layers (contrib)](https://www.tensorflow.org/api_guides/python/contrib.layers) for **this** layer, but you can still use TensorFlow's [Neural Network](https://www.tensorflow.org/api_docs/python/tf/nn) package. You may still use the shortcut option for all the **other** layers."
   ]
  },
  {
   "cell_type": "code",
   "execution_count": 8,
   "metadata": {
    "collapsed": false,
    "deletable": true,
    "editable": true
   },
   "outputs": [
    {
     "name": "stdout",
     "output_type": "stream",
     "text": [
      "Tests Passed\n"
     ]
    }
   ],
   "source": [
    "def conv2d_maxpool(x_tensor, conv_num_outputs, conv_ksize, conv_strides, pool_ksize, pool_strides):\n",
    "    \"\"\"\n",
    "    Apply convolution then max pooling to x_tensor\n",
    "    :param x_tensor: TensorFlow Tensor\n",
    "    :param conv_num_outputs: Number of outputs for the convolutional layer\n",
    "    :param conv_ksize: kernal size 2-D Tuple for the convolutional layer\n",
    "    :param conv_strides: Stride 2-D Tuple for convolution\n",
    "    :param pool_ksize: kernal size 2-D Tuple for pool\n",
    "    :param pool_strides: Stride 2-D Tuple for pool\n",
    "    : return: A tensor that represents convolution and max pooling of x_tensor\n",
    "    \"\"\" \n",
    "    #Create TF operation for convolution\n",
    "    #Filter shape is (filter_height, filter_width, input_channels, output_channels)\n",
    "    #Filter strides is (batch_size, step_x, step_y, channels). For strides batch number\n",
    "    #and channels should always be set to one.\n",
    "    input_channels = int(x_tensor.get_shape()[3])\n",
    "    filter_shape = conv_ksize + (input_channels, conv_num_outputs) \n",
    "    filter_weights = tf.Variable(tf.truncated_normal(filter_shape, stddev=0.05)) \n",
    "    \n",
    "    strides = (1, ) + conv_strides + (1, )  \n",
    "    conv2d = tf.nn.conv2d(x_tensor, filter_weights, strides, padding = 'SAME')\n",
    "    \n",
    "    #Add biases to convolution layer. A bias value is added to each filter channel.\n",
    "    filter_bias = tf.Variable(tf.zeros(conv_num_outputs))\n",
    "    conv2d = tf.add(conv2d, filter_bias)\n",
    "    \n",
    "    #Max Pooling layer. Like for convolution strides, the outer shape numbers\n",
    "    #for pooling filter size and strides should always be 1\n",
    "    ksize = (1, ) + pool_ksize + (1, )\n",
    "    strides = (1, ) + pool_strides + (1, )\n",
    "    max_pool = tf.nn.max_pool(conv2d, ksize, strides, padding = 'SAME')\n",
    "\n",
    "    #Apply ReLU acivation, i.e max(x, 0). Normally we apply acivation before pooling.\n",
    "    #However in this case we can do it as a last operation because it does not change the \n",
    "    #result but is more efficient, since pooling layer will reduce the data dimensionality.\n",
    "    return tf.nn.relu(max_pool) \n",
    "\n",
    "\"\"\"\n",
    "DON'T MODIFY ANYTHING IN THIS CELL THAT IS BELOW THIS LINE\n",
    "\"\"\"\n",
    "tests.test_con_pool(conv2d_maxpool)"
   ]
  },
  {
   "cell_type": "markdown",
   "metadata": {
    "deletable": true,
    "editable": true
   },
   "source": [
    "### Flatten Layer\n",
    "Implement the `flatten` function to change the dimension of `x_tensor` from a 4-D tensor to a 2-D tensor.  The output should be the shape (*Batch Size*, *Flattened Image Size*). Shortcut option: you can use classes from the [TensorFlow Layers](https://www.tensorflow.org/api_docs/python/tf/layers) or [TensorFlow Layers (contrib)](https://www.tensorflow.org/api_guides/python/contrib.layers) packages for this layer. For more of a challenge, only use other TensorFlow packages."
   ]
  },
  {
   "cell_type": "code",
   "execution_count": 9,
   "metadata": {
    "collapsed": false,
    "deletable": true,
    "editable": true
   },
   "outputs": [
    {
     "name": "stdout",
     "output_type": "stream",
     "text": [
      "Tests Passed\n"
     ]
    }
   ],
   "source": [
    "def flatten(x_tensor):\n",
    "    \"\"\"\n",
    "    Flatten x_tensor to (Batch Size, Flattened Image Size)\n",
    "    : x_tensor: A tensor of size (Batch Size, ...), where ... are the image dimensions.\n",
    "    : return: A tensor of size (Batch Size, Flattened Image Size).\n",
    "    \"\"\"\n",
    "    #Number of features is image height * width * number of channels\n",
    "    layer_shape = x_tensor.get_shape() \n",
    "    num_fetures = layer_shape[1:4].num_elements()\n",
    "    return tf.reshape(x_tensor, [-1, num_fetures])\n",
    "\n",
    "\n",
    "\"\"\"\n",
    "DON'T MODIFY ANYTHING IN THIS CELL THAT IS BELOW THIS LINE\n",
    "\"\"\"\n",
    "tests.test_flatten(flatten)"
   ]
  },
  {
   "cell_type": "markdown",
   "metadata": {
    "deletable": true,
    "editable": true
   },
   "source": [
    "### Fully-Connected Layer\n",
    "Implement the `fully_conn` function to apply a fully connected layer to `x_tensor` with the shape (*Batch Size*, *num_outputs*). Shortcut option: you can use classes from the [TensorFlow Layers](https://www.tensorflow.org/api_docs/python/tf/layers) or [TensorFlow Layers (contrib)](https://www.tensorflow.org/api_guides/python/contrib.layers) packages for this layer. For more of a challenge, only use other TensorFlow packages."
   ]
  },
  {
   "cell_type": "code",
   "execution_count": 10,
   "metadata": {
    "collapsed": false,
    "deletable": true,
    "editable": true
   },
   "outputs": [
    {
     "name": "stdout",
     "output_type": "stream",
     "text": [
      "Tests Passed\n"
     ]
    }
   ],
   "source": [
    "def fully_conn(x_tensor, num_outputs, use_relu = True):\n",
    "    \"\"\"\n",
    "    Apply a fully connected layer to x_tensor using weight and bias\n",
    "    : x_tensor: A 2-D tensor where the first dimension is batch size.\n",
    "    : num_outputs: The number of output that the new tensor should be.\n",
    "    : return: A 2-D tensor where the second dimension is num_outputs.\n",
    "    \"\"\"\n",
    "    weights_shape = (int(x_tensor.get_shape()[1]), num_outputs)\n",
    "    weights = tf.Variable(tf.truncated_normal(weights_shape, stddev=0.05))\n",
    "    biases = tf.Variable(tf.zeros(num_outputs))\n",
    "    fully_conn_layer = tf.add(tf.matmul(x_tensor, weights), biases)\n",
    "    \n",
    "    if use_relu:\n",
    "        fully_conn_layer = tf.nn.relu(fully_conn_layer)\n",
    "    \n",
    "    return tf.nn.relu(fully_conn_layer)\n",
    "\n",
    "\"\"\"\n",
    "DON'T MODIFY ANYTHING IN THIS CELL THAT IS BELOW THIS LINE\n",
    "\"\"\"\n",
    "tests.test_fully_conn(fully_conn)"
   ]
  },
  {
   "cell_type": "markdown",
   "metadata": {
    "deletable": true,
    "editable": true
   },
   "source": [
    "### Output Layer\n",
    "Implement the `output` function to apply a fully connected layer to `x_tensor` with the shape (*Batch Size*, *num_outputs*). Shortcut option: you can use classes from the [TensorFlow Layers](https://www.tensorflow.org/api_docs/python/tf/layers) or [TensorFlow Layers (contrib)](https://www.tensorflow.org/api_guides/python/contrib.layers) packages for this layer. For more of a challenge, only use other TensorFlow packages.\n",
    "\n",
    "**Note:** Activation, softmax, or cross entropy should **not** be applied to this."
   ]
  },
  {
   "cell_type": "code",
   "execution_count": 11,
   "metadata": {
    "collapsed": false,
    "deletable": true,
    "editable": true
   },
   "outputs": [
    {
     "name": "stdout",
     "output_type": "stream",
     "text": [
      "Tests Passed\n"
     ]
    }
   ],
   "source": [
    "def output(x_tensor, num_outputs):\n",
    "    \"\"\"\n",
    "    Apply a output layer to x_tensor using weight and bias\n",
    "    : x_tensor: A 2-D tensor where the first dimension is batch size.\n",
    "    : num_outputs: The number of output that the new tensor should be.\n",
    "    : return: A 2-D tensor where the second dimension is num_outputs.\n",
    "    \"\"\"\n",
    "    return fully_conn(x_tensor, num_outputs, False)\n",
    "\n",
    "\n",
    "\"\"\"\n",
    "DON'T MODIFY ANYTHING IN THIS CELL THAT IS BELOW THIS LINE\n",
    "\"\"\"\n",
    "tests.test_output(output)"
   ]
  },
  {
   "cell_type": "markdown",
   "metadata": {
    "deletable": true,
    "editable": true
   },
   "source": [
    "### Create Convolutional Model\n",
    "Implement the function `conv_net` to create a convolutional neural network model. The function takes in a batch of images, `x`, and outputs logits.  Use the layers you created above to create this model:\n",
    "\n",
    "* Apply 1, 2, or 3 Convolution and Max Pool layers\n",
    "* Apply a Flatten Layer\n",
    "* Apply 1, 2, or 3 Fully Connected Layers\n",
    "* Apply an Output Layer\n",
    "* Return the output\n",
    "* Apply [TensorFlow's Dropout](https://www.tensorflow.org/api_docs/python/tf/nn/dropout) to one or more layers in the model using `keep_prob`. "
   ]
  },
  {
   "cell_type": "code",
   "execution_count": 12,
   "metadata": {
    "collapsed": false,
    "deletable": true,
    "editable": true
   },
   "outputs": [
    {
     "name": "stdout",
     "output_type": "stream",
     "text": [
      "Neural Network Built!\n"
     ]
    }
   ],
   "source": [
    "def conv_net(x, keep_prob):\n",
    "    \"\"\"\n",
    "    Create a convolutional neural network model\n",
    "    : x: Placeholder tensor that holds image data.\n",
    "    : keep_prob: Placeholder tensor that hold dropout keep probability.\n",
    "    : return: Tensor that represents logits\n",
    "    \"\"\"\n",
    "    # TODO: Apply 1, 2, or 3 Convolution and Max Pool layers\n",
    "    #    Play around with different number of outputs, kernel size and stride\n",
    "    # Function Definition from Above:\n",
    "    #    conv2d_maxpool(x_tensor, conv_num_outputs, conv_ksize, conv_strides, pool_ksize, pool_strides)\n",
    "        \n",
    "    conv_ksize = (5, 5)\n",
    "    conv_strides = (1, 1)\n",
    "    pool_ksize = (2, 2)\n",
    "    pool_strides = (2, 2)\n",
    "    \n",
    "    intermediate_layer = conv2d_maxpool(x, 16, conv_ksize, conv_strides, pool_ksize, pool_strides)\n",
    "    intermediate_layer = conv2d_maxpool(intermediate_layer, 32, conv_ksize, conv_strides, pool_ksize, pool_strides)\n",
    "\n",
    "    # TODO: Apply a Flatten Layer\n",
    "    # Function Definition from Above:\n",
    "    #   flatten(x_tensor)\n",
    "    intermediate_layer = flatten(intermediate_layer)\n",
    "    \n",
    "    # TODO: Apply 1, 2, or 3 Fully Connected Layers\n",
    "    #    Play around with different number of outputs\n",
    "    # Function Definition from Above:\n",
    "    #   fully_conn(x_tensor, num_outputs)\n",
    "    intermediate_layer = fully_conn(intermediate_layer, 4096)\n",
    "    intermediate_layer = fully_conn(intermediate_layer, 2048)\n",
    "    intermediate_layer = fully_conn(intermediate_layer, 128)\n",
    "    \n",
    "    # TODO: Apply an Output Layer\n",
    "    #    Set this to the number of classes\n",
    "    # Function Definition from Above:\n",
    "    #   output(x_tensor, num_outputs)\n",
    "    intermediate_layer = tf.nn.dropout(intermediate_layer, keep_prob)\n",
    "    intermediate_layer = output(intermediate_layer, 10)\n",
    "    \n",
    "    # TODO: return output\n",
    "    return intermediate_layer\n",
    "\n",
    "\n",
    "\"\"\"\n",
    "DON'T MODIFY ANYTHING IN THIS CELL THAT IS BELOW THIS LINE\n",
    "\"\"\"\n",
    "\n",
    "##############################\n",
    "## Build the Neural Network ##\n",
    "##############################\n",
    "\n",
    "# Remove previous weights, bias, inputs, etc..\n",
    "tf.reset_default_graph()\n",
    "\n",
    "# Inputs\n",
    "x = neural_net_image_input((32, 32, 3))\n",
    "y = neural_net_label_input(10)\n",
    "keep_prob = neural_net_keep_prob_input()\n",
    "\n",
    "# Model\n",
    "logits = conv_net(x, keep_prob)\n",
    "\n",
    "# Name logits Tensor, so that is can be loaded from disk after training\n",
    "logits = tf.identity(logits, name='logits')\n",
    "\n",
    "# Loss and Optimizer\n",
    "cost = tf.reduce_mean(tf.nn.softmax_cross_entropy_with_logits(logits=logits, labels=y))\n",
    "optimizer = tf.train.AdamOptimizer().minimize(cost)\n",
    "\n",
    "# Accuracy\n",
    "correct_pred = tf.equal(tf.argmax(logits, 1), tf.argmax(y, 1))\n",
    "accuracy = tf.reduce_mean(tf.cast(correct_pred, tf.float32), name='accuracy')\n",
    "\n",
    "tests.test_conv_net(conv_net)"
   ]
  },
  {
   "cell_type": "markdown",
   "metadata": {
    "deletable": true,
    "editable": true
   },
   "source": [
    "## Train the Neural Network\n",
    "### Single Optimization\n",
    "Implement the function `train_neural_network` to do a single optimization.  The optimization should use `optimizer` to optimize in `session` with a `feed_dict` of the following:\n",
    "* `x` for image input\n",
    "* `y` for labels\n",
    "* `keep_prob` for keep probability for dropout\n",
    "\n",
    "This function will be called for each batch, so `tf.global_variables_initializer()` has already been called.\n",
    "\n",
    "Note: Nothing needs to be returned. This function is only optimizing the neural network."
   ]
  },
  {
   "cell_type": "code",
   "execution_count": 13,
   "metadata": {
    "collapsed": false,
    "deletable": true,
    "editable": true
   },
   "outputs": [
    {
     "name": "stdout",
     "output_type": "stream",
     "text": [
      "Tests Passed\n"
     ]
    }
   ],
   "source": [
    "def train_neural_network(session, optimizer, keep_probability, feature_batch, label_batch):\n",
    "    \"\"\"\n",
    "    Optimize the session on a batch of images and labels\n",
    "    : session: Current TensorFlow session\n",
    "    : optimizer: TensorFlow optimizer function\n",
    "    : keep_probability: keep probability\n",
    "    : feature_batch: Batch of Numpy image data\n",
    "    : label_batch: Batch of Numpy label data\n",
    "    \"\"\"\n",
    "    \n",
    "    # Put the batch into a dict with the proper names\n",
    "    # for placeholder variables in the TensorFlow graph.\n",
    "    feed_dict_train = {x: feature_batch, y: label_batch, keep_prob: keep_probability}\n",
    "\n",
    "    # Run the optimizer using this batch of training data.\n",
    "    # TensorFlow assigns the variables in feed_dict_train\n",
    "    # to the placeholder variables and then runs the optimizer.\n",
    "    session.run(optimizer, feed_dict=feed_dict_train)\n",
    "\n",
    "\n",
    "\"\"\"\n",
    "DON'T MODIFY ANYTHING IN THIS CELL THAT IS BELOW THIS LINE\n",
    "\"\"\"\n",
    "tests.test_train_nn(train_neural_network)"
   ]
  },
  {
   "cell_type": "markdown",
   "metadata": {
    "deletable": true,
    "editable": true
   },
   "source": [
    "### Show Stats\n",
    "Implement the function `print_stats` to print loss and validation accuracy.  Use the global variables `valid_features` and `valid_labels` to calculate validation accuracy.  Use a keep probability of `1.0` to calculate the loss and validation accuracy."
   ]
  },
  {
   "cell_type": "code",
   "execution_count": 14,
   "metadata": {
    "collapsed": false,
    "deletable": true,
    "editable": true
   },
   "outputs": [],
   "source": [
    "def print_stats(session, feature_batch, label_batch, cost, accuracy):\n",
    "    \"\"\"\n",
    "    Print information about loss and validation accuracy\n",
    "    : session: Current TensorFlow session\n",
    "    : feature_batch: Batch of Numpy image data\n",
    "    : label_batch: Batch of Numpy label data\n",
    "    : cost: TensorFlow cost function\n",
    "    : accuracy: TensorFlow accuracy function\n",
    "    \"\"\"\n",
    "    # Calculate Training and Validation accuracy\n",
    "    train_feed_dict = {x: feature_batch, y: label_batch, keep_prob: 1.0}\n",
    "    valid_feed_dict = {x: valid_features, y: valid_labels, keep_prob: 1.0}\n",
    "    \n",
    "    training_accuracy = session.run(accuracy, feed_dict=train_feed_dict)\n",
    "    validation_accuracy = session.run(accuracy, feed_dict=valid_feed_dict)\n",
    "\n",
    "    print('Training Accuracy: {0:6.1%} | Validation Accuracy: {1:6.1%}'.format(training_accuracy, validation_accuracy))"
   ]
  },
  {
   "cell_type": "markdown",
   "metadata": {
    "deletable": true,
    "editable": true
   },
   "source": [
    "### Hyperparameters\n",
    "Tune the following parameters:\n",
    "* Set `epochs` to the number of iterations until the network stops learning or start overfitting\n",
    "* Set `batch_size` to the highest number that your machine has memory for.  Most people set them to common sizes of memory:\n",
    " * 64\n",
    " * 128\n",
    " * 256\n",
    " * ...\n",
    "* Set `keep_probability` to the probability of keeping a node using dropout"
   ]
  },
  {
   "cell_type": "code",
   "execution_count": 15,
   "metadata": {
    "collapsed": true,
    "deletable": true,
    "editable": true
   },
   "outputs": [],
   "source": [
    "# TODO: Tune Parameters\n",
    "epochs = 50\n",
    "batch_size = 8192\n",
    "keep_probability = 0.3"
   ]
  },
  {
   "cell_type": "markdown",
   "metadata": {
    "deletable": true,
    "editable": true
   },
   "source": [
    "### Train on a Single CIFAR-10 Batch\n",
    "Instead of training the neural network on all the CIFAR-10 batches of data, let's use a single batch. This should save time while you iterate on the model to get a better accuracy.  Once the final validation accuracy is 50% or greater, run the model on all the data in the next section."
   ]
  },
  {
   "cell_type": "code",
   "execution_count": 16,
   "metadata": {
    "collapsed": false,
    "deletable": true,
    "editable": true
   },
   "outputs": [
    {
     "name": "stdout",
     "output_type": "stream",
     "text": [
      "Checking the Training on a Single Batch...\n",
      "Epoch  1, CIFAR-10 Batch 1:  Training Accuracy:  10.9% | Validation Accuracy:  11.0%\n",
      "Epoch  2, CIFAR-10 Batch 1:  Training Accuracy:  18.4% | Validation Accuracy:  16.9%\n",
      "Epoch  3, CIFAR-10 Batch 1:  Training Accuracy:  25.0% | Validation Accuracy:  21.9%\n",
      "Epoch  4, CIFAR-10 Batch 1:  Training Accuracy:  32.5% | Validation Accuracy:  28.1%\n",
      "Epoch  5, CIFAR-10 Batch 1:  Training Accuracy:  32.2% | Validation Accuracy:  27.9%\n",
      "Epoch  6, CIFAR-10 Batch 1:  Training Accuracy:  32.1% | Validation Accuracy:  29.2%\n",
      "Epoch  7, CIFAR-10 Batch 1:  Training Accuracy:  33.9% | Validation Accuracy:  28.5%\n",
      "Epoch  8, CIFAR-10 Batch 1:  Training Accuracy:  37.4% | Validation Accuracy:  30.9%\n",
      "Epoch  9, CIFAR-10 Batch 1:  Training Accuracy:  38.6% | Validation Accuracy:  32.7%\n",
      "Epoch 10, CIFAR-10 Batch 1:  Training Accuracy:  39.6% | Validation Accuracy:  33.6%\n",
      "Epoch 11, CIFAR-10 Batch 1:  Training Accuracy:  40.1% | Validation Accuracy:  36.1%\n",
      "Epoch 12, CIFAR-10 Batch 1:  Training Accuracy:  43.2% | Validation Accuracy:  35.7%\n",
      "Epoch 13, CIFAR-10 Batch 1:  Training Accuracy:  45.3% | Validation Accuracy:  37.3%\n",
      "Epoch 14, CIFAR-10 Batch 1:  Training Accuracy:  47.5% | Validation Accuracy:  39.0%\n",
      "Epoch 15, CIFAR-10 Batch 1:  Training Accuracy:  49.8% | Validation Accuracy:  39.2%\n",
      "Epoch 16, CIFAR-10 Batch 1:  Training Accuracy:  52.0% | Validation Accuracy:  40.5%\n",
      "Epoch 17, CIFAR-10 Batch 1:  Training Accuracy:  53.1% | Validation Accuracy:  41.5%\n",
      "Epoch 18, CIFAR-10 Batch 1:  Training Accuracy:  54.8% | Validation Accuracy:  42.5%\n",
      "Epoch 19, CIFAR-10 Batch 1:  Training Accuracy:  55.1% | Validation Accuracy:  41.7%\n",
      "Epoch 20, CIFAR-10 Batch 1:  Training Accuracy:  55.1% | Validation Accuracy:  39.8%\n",
      "Epoch 21, CIFAR-10 Batch 1:  Training Accuracy:  60.9% | Validation Accuracy:  43.9%\n",
      "Epoch 22, CIFAR-10 Batch 1:  Training Accuracy:  62.3% | Validation Accuracy:  44.3%\n",
      "Epoch 23, CIFAR-10 Batch 1:  Training Accuracy:  61.9% | Validation Accuracy:  44.2%\n",
      "Epoch 24, CIFAR-10 Batch 1:  Training Accuracy:  63.7% | Validation Accuracy:  43.8%\n",
      "Epoch 25, CIFAR-10 Batch 1:  Training Accuracy:  65.5% | Validation Accuracy:  44.0%\n",
      "Epoch 26, CIFAR-10 Batch 1:  Training Accuracy:  66.8% | Validation Accuracy:  45.3%\n",
      "Epoch 27, CIFAR-10 Batch 1:  Training Accuracy:  71.4% | Validation Accuracy:  46.4%\n",
      "Epoch 28, CIFAR-10 Batch 1:  Training Accuracy:  70.8% | Validation Accuracy:  45.8%\n",
      "Epoch 29, CIFAR-10 Batch 1:  Training Accuracy:  72.3% | Validation Accuracy:  46.2%\n",
      "Epoch 30, CIFAR-10 Batch 1:  Training Accuracy:  74.5% | Validation Accuracy:  47.6%\n",
      "Epoch 31, CIFAR-10 Batch 1:  Training Accuracy:  76.6% | Validation Accuracy:  49.5%\n",
      "Epoch 32, CIFAR-10 Batch 1:  Training Accuracy:  71.4% | Validation Accuracy:  46.0%\n",
      "Epoch 33, CIFAR-10 Batch 1:  Training Accuracy:  78.5% | Validation Accuracy:  48.6%\n",
      "Epoch 34, CIFAR-10 Batch 1:  Training Accuracy:  78.5% | Validation Accuracy:  47.8%\n",
      "Epoch 35, CIFAR-10 Batch 1:  Training Accuracy:  76.4% | Validation Accuracy:  45.5%\n",
      "Epoch 36, CIFAR-10 Batch 1:  Training Accuracy:  77.2% | Validation Accuracy:  46.9%\n",
      "Epoch 37, CIFAR-10 Batch 1:  Training Accuracy:  80.2% | Validation Accuracy:  48.3%\n",
      "Epoch 38, CIFAR-10 Batch 1:  Training Accuracy:  81.3% | Validation Accuracy:  50.2%\n",
      "Epoch 39, CIFAR-10 Batch 1:  Training Accuracy:  84.4% | Validation Accuracy:  50.1%\n",
      "Epoch 40, CIFAR-10 Batch 1:  Training Accuracy:  86.3% | Validation Accuracy:  51.2%\n",
      "Epoch 41, CIFAR-10 Batch 1:  Training Accuracy:  85.3% | Validation Accuracy:  49.8%\n",
      "Epoch 42, CIFAR-10 Batch 1:  Training Accuracy:  86.4% | Validation Accuracy:  50.6%\n",
      "Epoch 43, CIFAR-10 Batch 1:  Training Accuracy:  84.5% | Validation Accuracy:  49.7%\n",
      "Epoch 44, CIFAR-10 Batch 1:  Training Accuracy:  87.5% | Validation Accuracy:  49.9%\n",
      "Epoch 45, CIFAR-10 Batch 1:  Training Accuracy:  86.3% | Validation Accuracy:  48.6%\n",
      "Epoch 46, CIFAR-10 Batch 1:  Training Accuracy:  88.2% | Validation Accuracy:  49.4%\n",
      "Epoch 47, CIFAR-10 Batch 1:  Training Accuracy:  85.8% | Validation Accuracy:  47.5%\n",
      "Epoch 48, CIFAR-10 Batch 1:  Training Accuracy:  86.1% | Validation Accuracy:  48.8%\n",
      "Epoch 49, CIFAR-10 Batch 1:  Training Accuracy:  89.9% | Validation Accuracy:  49.7%\n",
      "Epoch 50, CIFAR-10 Batch 1:  Training Accuracy:  89.6% | Validation Accuracy:  49.9%\n"
     ]
    }
   ],
   "source": [
    "\"\"\"\n",
    "DON'T MODIFY ANYTHING IN THIS CELL\n",
    "\"\"\"\n",
    "print('Checking the Training on a Single Batch...')\n",
    "with tf.Session() as sess:\n",
    "    # Initializing the variables\n",
    "    sess.run(tf.global_variables_initializer())\n",
    "    \n",
    "    # Training cycle\n",
    "    for epoch in range(epochs):\n",
    "        batch_i = 1\n",
    "        for batch_features, batch_labels in helper.load_preprocess_training_batch(batch_i, batch_size):\n",
    "            train_neural_network(sess, optimizer, keep_probability, batch_features, batch_labels)\n",
    "        print('Epoch {:>2}, CIFAR-10 Batch {}:  '.format(epoch + 1, batch_i), end='')\n",
    "        print_stats(sess, batch_features, batch_labels, cost, accuracy)"
   ]
  },
  {
   "cell_type": "markdown",
   "metadata": {
    "deletable": true,
    "editable": true
   },
   "source": [
    "### Fully Train the Model\n",
    "Now that you got a good accuracy with a single CIFAR-10 batch, try it with all five batches."
   ]
  },
  {
   "cell_type": "code",
   "execution_count": 17,
   "metadata": {
    "collapsed": false,
    "deletable": true,
    "editable": true
   },
   "outputs": [
    {
     "name": "stdout",
     "output_type": "stream",
     "text": [
      "Training...\n",
      "Epoch  1, CIFAR-10 Batch 1:  Training Accuracy:  14.2% | Validation Accuracy:  13.5%\n",
      "Epoch  1, CIFAR-10 Batch 2:  Training Accuracy:  11.3% | Validation Accuracy:  11.7%\n",
      "Epoch  1, CIFAR-10 Batch 3:  Training Accuracy:  11.8% | Validation Accuracy:  12.2%\n",
      "Epoch  1, CIFAR-10 Batch 4:  Training Accuracy:  18.4% | Validation Accuracy:  16.7%\n",
      "Epoch  1, CIFAR-10 Batch 5:  Training Accuracy:  25.7% | Validation Accuracy:  25.8%\n",
      "Epoch  2, CIFAR-10 Batch 1:  Training Accuracy:  27.6% | Validation Accuracy:  26.6%\n",
      "Epoch  2, CIFAR-10 Batch 2:  Training Accuracy:  23.3% | Validation Accuracy:  21.3%\n",
      "Epoch  2, CIFAR-10 Batch 3:  Training Accuracy:  25.4% | Validation Accuracy:  23.3%\n",
      "Epoch  2, CIFAR-10 Batch 4:  Training Accuracy:  27.6% | Validation Accuracy:  26.0%\n",
      "Epoch  2, CIFAR-10 Batch 5:  Training Accuracy:  25.0% | Validation Accuracy:  24.2%\n",
      "Epoch  3, CIFAR-10 Batch 1:  Training Accuracy:  30.1% | Validation Accuracy:  28.7%\n",
      "Epoch  3, CIFAR-10 Batch 2:  Training Accuracy:  30.7% | Validation Accuracy:  29.9%\n",
      "Epoch  3, CIFAR-10 Batch 3:  Training Accuracy:  33.3% | Validation Accuracy:  29.9%\n",
      "Epoch  3, CIFAR-10 Batch 4:  Training Accuracy:  31.9% | Validation Accuracy:  31.3%\n",
      "Epoch  3, CIFAR-10 Batch 5:  Training Accuracy:  33.7% | Validation Accuracy:  35.3%\n",
      "Epoch  4, CIFAR-10 Batch 1:  Training Accuracy:  39.7% | Validation Accuracy:  36.5%\n",
      "Epoch  4, CIFAR-10 Batch 2:  Training Accuracy:  39.1% | Validation Accuracy:  37.6%\n",
      "Epoch  4, CIFAR-10 Batch 3:  Training Accuracy:  42.9% | Validation Accuracy:  39.1%\n",
      "Epoch  4, CIFAR-10 Batch 4:  Training Accuracy:  40.2% | Validation Accuracy:  38.7%\n",
      "Epoch  4, CIFAR-10 Batch 5:  Training Accuracy:  39.2% | Validation Accuracy:  39.6%\n",
      "Epoch  5, CIFAR-10 Batch 1:  Training Accuracy:  41.5% | Validation Accuracy:  40.4%\n",
      "Epoch  5, CIFAR-10 Batch 2:  Training Accuracy:  42.1% | Validation Accuracy:  39.8%\n",
      "Epoch  5, CIFAR-10 Batch 3:  Training Accuracy:  44.9% | Validation Accuracy:  41.1%\n",
      "Epoch  5, CIFAR-10 Batch 4:  Training Accuracy:  44.7% | Validation Accuracy:  42.7%\n",
      "Epoch  5, CIFAR-10 Batch 5:  Training Accuracy:  43.3% | Validation Accuracy:  41.8%\n",
      "Epoch  6, CIFAR-10 Batch 1:  Training Accuracy:  44.3% | Validation Accuracy:  42.8%\n",
      "Epoch  6, CIFAR-10 Batch 2:  Training Accuracy:  44.9% | Validation Accuracy:  43.3%\n",
      "Epoch  6, CIFAR-10 Batch 3:  Training Accuracy:  48.4% | Validation Accuracy:  43.8%\n",
      "Epoch  6, CIFAR-10 Batch 4:  Training Accuracy:  47.0% | Validation Accuracy:  43.8%\n",
      "Epoch  6, CIFAR-10 Batch 5:  Training Accuracy:  45.8% | Validation Accuracy:  44.2%\n",
      "Epoch  7, CIFAR-10 Batch 1:  Training Accuracy:  49.4% | Validation Accuracy:  45.0%\n",
      "Epoch  7, CIFAR-10 Batch 2:  Training Accuracy:  49.9% | Validation Accuracy:  46.0%\n",
      "Epoch  7, CIFAR-10 Batch 3:  Training Accuracy:  50.6% | Validation Accuracy:  45.8%\n",
      "Epoch  7, CIFAR-10 Batch 4:  Training Accuracy:  52.0% | Validation Accuracy:  46.4%\n",
      "Epoch  7, CIFAR-10 Batch 5:  Training Accuracy:  53.1% | Validation Accuracy:  47.3%\n",
      "Epoch  8, CIFAR-10 Batch 1:  Training Accuracy:  53.1% | Validation Accuracy:  46.9%\n",
      "Epoch  8, CIFAR-10 Batch 2:  Training Accuracy:  54.3% | Validation Accuracy:  48.1%\n",
      "Epoch  8, CIFAR-10 Batch 3:  Training Accuracy:  54.7% | Validation Accuracy:  47.7%\n",
      "Epoch  8, CIFAR-10 Batch 4:  Training Accuracy:  53.8% | Validation Accuracy:  48.0%\n",
      "Epoch  8, CIFAR-10 Batch 5:  Training Accuracy:  51.7% | Validation Accuracy:  46.5%\n",
      "Epoch  9, CIFAR-10 Batch 1:  Training Accuracy:  51.7% | Validation Accuracy:  46.1%\n",
      "Epoch  9, CIFAR-10 Batch 2:  Training Accuracy:  52.0% | Validation Accuracy:  47.1%\n",
      "Epoch  9, CIFAR-10 Batch 3:  Training Accuracy:  57.4% | Validation Accuracy:  48.7%\n",
      "Epoch  9, CIFAR-10 Batch 4:  Training Accuracy:  54.8% | Validation Accuracy:  47.9%\n",
      "Epoch  9, CIFAR-10 Batch 5:  Training Accuracy:  56.9% | Validation Accuracy:  50.2%\n",
      "Epoch 10, CIFAR-10 Batch 1:  Training Accuracy:  56.7% | Validation Accuracy:  50.2%\n",
      "Epoch 10, CIFAR-10 Batch 2:  Training Accuracy:  57.7% | Validation Accuracy:  51.3%\n",
      "Epoch 10, CIFAR-10 Batch 3:  Training Accuracy:  59.9% | Validation Accuracy:  51.2%\n",
      "Epoch 10, CIFAR-10 Batch 4:  Training Accuracy:  60.9% | Validation Accuracy:  52.6%\n",
      "Epoch 10, CIFAR-10 Batch 5:  Training Accuracy:  61.1% | Validation Accuracy:  51.8%\n",
      "Epoch 11, CIFAR-10 Batch 1:  Training Accuracy:  60.6% | Validation Accuracy:  52.3%\n",
      "Epoch 11, CIFAR-10 Batch 2:  Training Accuracy:  62.6% | Validation Accuracy:  53.4%\n",
      "Epoch 11, CIFAR-10 Batch 3:  Training Accuracy:  63.9% | Validation Accuracy:  52.5%\n",
      "Epoch 11, CIFAR-10 Batch 4:  Training Accuracy:  62.9% | Validation Accuracy:  53.3%\n",
      "Epoch 11, CIFAR-10 Batch 5:  Training Accuracy:  65.8% | Validation Accuracy:  53.6%\n",
      "Epoch 12, CIFAR-10 Batch 1:  Training Accuracy:  66.5% | Validation Accuracy:  54.1%\n",
      "Epoch 12, CIFAR-10 Batch 2:  Training Accuracy:  63.7% | Validation Accuracy:  52.9%\n",
      "Epoch 12, CIFAR-10 Batch 3:  Training Accuracy:  63.0% | Validation Accuracy:  51.1%\n",
      "Epoch 12, CIFAR-10 Batch 4:  Training Accuracy:  62.7% | Validation Accuracy:  50.4%\n",
      "Epoch 12, CIFAR-10 Batch 5:  Training Accuracy:  65.0% | Validation Accuracy:  52.2%\n",
      "Epoch 13, CIFAR-10 Batch 1:  Training Accuracy:  63.5% | Validation Accuracy:  52.1%\n",
      "Epoch 13, CIFAR-10 Batch 2:  Training Accuracy:  63.5% | Validation Accuracy:  51.8%\n",
      "Epoch 13, CIFAR-10 Batch 3:  Training Accuracy:  68.2% | Validation Accuracy:  54.0%\n",
      "Epoch 13, CIFAR-10 Batch 4:  Training Accuracy:  67.7% | Validation Accuracy:  52.9%\n",
      "Epoch 13, CIFAR-10 Batch 5:  Training Accuracy:  66.6% | Validation Accuracy:  54.4%\n",
      "Epoch 14, CIFAR-10 Batch 1:  Training Accuracy:  68.8% | Validation Accuracy:  53.5%\n",
      "Epoch 14, CIFAR-10 Batch 2:  Training Accuracy:  70.7% | Validation Accuracy:  56.2%\n",
      "Epoch 14, CIFAR-10 Batch 3:  Training Accuracy:  70.9% | Validation Accuracy:  54.1%\n",
      "Epoch 14, CIFAR-10 Batch 4:  Training Accuracy:  70.7% | Validation Accuracy:  53.8%\n",
      "Epoch 14, CIFAR-10 Batch 5:  Training Accuracy:  71.3% | Validation Accuracy:  55.1%\n",
      "Epoch 15, CIFAR-10 Batch 1:  Training Accuracy:  69.4% | Validation Accuracy:  54.8%\n",
      "Epoch 15, CIFAR-10 Batch 2:  Training Accuracy:  70.7% | Validation Accuracy:  55.1%\n",
      "Epoch 15, CIFAR-10 Batch 3:  Training Accuracy:  74.6% | Validation Accuracy:  55.2%\n",
      "Epoch 15, CIFAR-10 Batch 4:  Training Accuracy:  73.1% | Validation Accuracy:  56.2%\n",
      "Epoch 15, CIFAR-10 Batch 5:  Training Accuracy:  74.1% | Validation Accuracy:  55.7%\n",
      "Epoch 16, CIFAR-10 Batch 1:  Training Accuracy:  72.5% | Validation Accuracy:  56.2%\n",
      "Epoch 16, CIFAR-10 Batch 2:  Training Accuracy:  75.5% | Validation Accuracy:  55.9%\n",
      "Epoch 16, CIFAR-10 Batch 3:  Training Accuracy:  74.6% | Validation Accuracy:  55.4%\n",
      "Epoch 16, CIFAR-10 Batch 4:  Training Accuracy:  76.6% | Validation Accuracy:  56.8%\n",
      "Epoch 16, CIFAR-10 Batch 5:  Training Accuracy:  75.1% | Validation Accuracy:  56.3%\n",
      "Epoch 17, CIFAR-10 Batch 1:  Training Accuracy:  75.7% | Validation Accuracy:  55.4%\n",
      "Epoch 17, CIFAR-10 Batch 2:  Training Accuracy:  78.1% | Validation Accuracy:  57.6%\n",
      "Epoch 17, CIFAR-10 Batch 3:  Training Accuracy:  79.1% | Validation Accuracy:  57.2%\n",
      "Epoch 17, CIFAR-10 Batch 4:  Training Accuracy:  79.5% | Validation Accuracy:  58.1%\n",
      "Epoch 17, CIFAR-10 Batch 5:  Training Accuracy:  80.4% | Validation Accuracy:  57.5%\n",
      "Epoch 18, CIFAR-10 Batch 1:  Training Accuracy:  79.5% | Validation Accuracy:  57.3%\n",
      "Epoch 18, CIFAR-10 Batch 2:  Training Accuracy:  81.2% | Validation Accuracy:  56.9%\n",
      "Epoch 18, CIFAR-10 Batch 3:  Training Accuracy:  82.3% | Validation Accuracy:  57.6%\n",
      "Epoch 18, CIFAR-10 Batch 4:  Training Accuracy:  81.7% | Validation Accuracy:  56.6%\n",
      "Epoch 18, CIFAR-10 Batch 5:  Training Accuracy:  79.3% | Validation Accuracy:  56.2%\n",
      "Epoch 19, CIFAR-10 Batch 1:  Training Accuracy:  78.3% | Validation Accuracy:  54.5%\n",
      "Epoch 19, CIFAR-10 Batch 2:  Training Accuracy:  79.3% | Validation Accuracy:  56.2%\n",
      "Epoch 19, CIFAR-10 Batch 3:  Training Accuracy:  82.8% | Validation Accuracy:  57.2%\n",
      "Epoch 19, CIFAR-10 Batch 4:  Training Accuracy:  83.0% | Validation Accuracy:  55.9%\n",
      "Epoch 19, CIFAR-10 Batch 5:  Training Accuracy:  82.9% | Validation Accuracy:  56.2%\n",
      "Epoch 20, CIFAR-10 Batch 1:  Training Accuracy:  84.5% | Validation Accuracy:  57.4%\n",
      "Epoch 20, CIFAR-10 Batch 2:  Training Accuracy:  83.8% | Validation Accuracy:  58.4%\n",
      "Epoch 20, CIFAR-10 Batch 3:  Training Accuracy:  82.8% | Validation Accuracy:  57.1%\n",
      "Epoch 20, CIFAR-10 Batch 4:  Training Accuracy:  84.5% | Validation Accuracy:  56.5%\n",
      "Epoch 20, CIFAR-10 Batch 5:  Training Accuracy:  87.1% | Validation Accuracy:  58.8%\n",
      "Epoch 21, CIFAR-10 Batch 1:  Training Accuracy:  86.5% | Validation Accuracy:  58.3%\n",
      "Epoch 21, CIFAR-10 Batch 2:  Training Accuracy:  86.5% | Validation Accuracy:  57.6%\n",
      "Epoch 21, CIFAR-10 Batch 3:  Training Accuracy:  87.4% | Validation Accuracy:  58.7%\n",
      "Epoch 21, CIFAR-10 Batch 4:  Training Accuracy:  88.4% | Validation Accuracy:  57.7%\n",
      "Epoch 21, CIFAR-10 Batch 5:  Training Accuracy:  87.3% | Validation Accuracy:  58.7%\n",
      "Epoch 22, CIFAR-10 Batch 1:  Training Accuracy:  87.5% | Validation Accuracy:  58.2%\n",
      "Epoch 22, CIFAR-10 Batch 2:  Training Accuracy:  88.5% | Validation Accuracy:  58.5%\n",
      "Epoch 22, CIFAR-10 Batch 3:  Training Accuracy:  87.9% | Validation Accuracy:  58.2%\n",
      "Epoch 22, CIFAR-10 Batch 4:  Training Accuracy:  89.0% | Validation Accuracy:  59.5%\n",
      "Epoch 22, CIFAR-10 Batch 5:  Training Accuracy:  86.8% | Validation Accuracy:  57.5%\n",
      "Epoch 23, CIFAR-10 Batch 1:  Training Accuracy:  87.5% | Validation Accuracy:  57.3%\n",
      "Epoch 23, CIFAR-10 Batch 2:  Training Accuracy:  86.1% | Validation Accuracy:  55.2%\n",
      "Epoch 23, CIFAR-10 Batch 3:  Training Accuracy:  90.3% | Validation Accuracy:  59.4%\n",
      "Epoch 23, CIFAR-10 Batch 4:  Training Accuracy:  91.5% | Validation Accuracy:  58.3%\n",
      "Epoch 23, CIFAR-10 Batch 5:  Training Accuracy:  89.6% | Validation Accuracy:  59.1%\n",
      "Epoch 24, CIFAR-10 Batch 1:  Training Accuracy:  91.7% | Validation Accuracy:  59.6%\n",
      "Epoch 24, CIFAR-10 Batch 2:  Training Accuracy:  90.6% | Validation Accuracy:  60.2%\n",
      "Epoch 24, CIFAR-10 Batch 3:  Training Accuracy:  92.7% | Validation Accuracy:  59.1%\n",
      "Epoch 24, CIFAR-10 Batch 4:  Training Accuracy:  92.7% | Validation Accuracy:  59.6%\n",
      "Epoch 24, CIFAR-10 Batch 5:  Training Accuracy:  90.6% | Validation Accuracy:  59.0%\n",
      "Epoch 25, CIFAR-10 Batch 1:  Training Accuracy:  92.5% | Validation Accuracy:  60.3%\n",
      "Epoch 25, CIFAR-10 Batch 2:  Training Accuracy:  92.3% | Validation Accuracy:  59.3%\n",
      "Epoch 25, CIFAR-10 Batch 3:  Training Accuracy:  91.1% | Validation Accuracy:  58.3%\n",
      "Epoch 25, CIFAR-10 Batch 4:  Training Accuracy:  89.5% | Validation Accuracy:  54.3%\n",
      "Epoch 25, CIFAR-10 Batch 5:  Training Accuracy:  84.5% | Validation Accuracy:  54.2%\n",
      "Epoch 26, CIFAR-10 Batch 1:  Training Accuracy:  88.2% | Validation Accuracy:  54.9%\n",
      "Epoch 26, CIFAR-10 Batch 2:  Training Accuracy:  86.6% | Validation Accuracy:  56.1%\n",
      "Epoch 26, CIFAR-10 Batch 3:  Training Accuracy:  92.8% | Validation Accuracy:  57.8%\n",
      "Epoch 26, CIFAR-10 Batch 4:  Training Accuracy:  91.7% | Validation Accuracy:  57.1%\n",
      "Epoch 26, CIFAR-10 Batch 5:  Training Accuracy:  90.8% | Validation Accuracy:  59.0%\n",
      "Epoch 27, CIFAR-10 Batch 1:  Training Accuracy:  92.1% | Validation Accuracy:  58.4%\n",
      "Epoch 27, CIFAR-10 Batch 2:  Training Accuracy:  92.8% | Validation Accuracy:  59.4%\n",
      "Epoch 27, CIFAR-10 Batch 3:  Training Accuracy:  92.3% | Validation Accuracy:  59.2%\n",
      "Epoch 27, CIFAR-10 Batch 4:  Training Accuracy:  92.5% | Validation Accuracy:  58.3%\n",
      "Epoch 27, CIFAR-10 Batch 5:  Training Accuracy:  94.2% | Validation Accuracy:  58.6%\n",
      "Epoch 28, CIFAR-10 Batch 1:  Training Accuracy:  93.1% | Validation Accuracy:  58.9%\n",
      "Epoch 28, CIFAR-10 Batch 2:  Training Accuracy:  92.2% | Validation Accuracy:  58.7%\n",
      "Epoch 28, CIFAR-10 Batch 3:  Training Accuracy:  93.6% | Validation Accuracy:  58.3%\n",
      "Epoch 28, CIFAR-10 Batch 4:  Training Accuracy:  95.0% | Validation Accuracy:  60.1%\n",
      "Epoch 28, CIFAR-10 Batch 5:  Training Accuracy:  96.3% | Validation Accuracy:  61.1%\n",
      "Epoch 29, CIFAR-10 Batch 1:  Training Accuracy:  96.3% | Validation Accuracy:  60.9%\n",
      "Epoch 29, CIFAR-10 Batch 2:  Training Accuracy:  96.8% | Validation Accuracy:  60.8%\n",
      "Epoch 29, CIFAR-10 Batch 3:  Training Accuracy:  96.2% | Validation Accuracy:  59.1%\n",
      "Epoch 29, CIFAR-10 Batch 4:  Training Accuracy:  95.5% | Validation Accuracy:  60.9%\n",
      "Epoch 29, CIFAR-10 Batch 5:  Training Accuracy:  95.2% | Validation Accuracy:  59.0%\n",
      "Epoch 30, CIFAR-10 Batch 1:  Training Accuracy:  95.3% | Validation Accuracy:  58.7%\n",
      "Epoch 30, CIFAR-10 Batch 2:  Training Accuracy:  96.0% | Validation Accuracy:  60.9%\n",
      "Epoch 30, CIFAR-10 Batch 3:  Training Accuracy:  97.5% | Validation Accuracy:  61.0%\n",
      "Epoch 30, CIFAR-10 Batch 4:  Training Accuracy:  96.2% | Validation Accuracy:  61.0%\n",
      "Epoch 30, CIFAR-10 Batch 5:  Training Accuracy:  97.3% | Validation Accuracy:  62.3%\n",
      "Epoch 31, CIFAR-10 Batch 1:  Training Accuracy:  98.1% | Validation Accuracy:  62.0%\n",
      "Epoch 31, CIFAR-10 Batch 2:  Training Accuracy:  97.8% | Validation Accuracy:  62.2%\n",
      "Epoch 31, CIFAR-10 Batch 3:  Training Accuracy:  97.8% | Validation Accuracy:  62.0%\n",
      "Epoch 31, CIFAR-10 Batch 4:  Training Accuracy:  97.5% | Validation Accuracy:  61.5%\n",
      "Epoch 31, CIFAR-10 Batch 5:  Training Accuracy:  98.5% | Validation Accuracy:  62.5%\n",
      "Epoch 32, CIFAR-10 Batch 1:  Training Accuracy:  98.3% | Validation Accuracy:  62.2%\n",
      "Epoch 32, CIFAR-10 Batch 2:  Training Accuracy:  98.8% | Validation Accuracy:  63.3%\n",
      "Epoch 32, CIFAR-10 Batch 3:  Training Accuracy:  98.6% | Validation Accuracy:  63.2%\n",
      "Epoch 32, CIFAR-10 Batch 4:  Training Accuracy:  98.8% | Validation Accuracy:  60.5%\n",
      "Epoch 32, CIFAR-10 Batch 5:  Training Accuracy:  92.7% | Validation Accuracy:  57.0%\n",
      "Epoch 33, CIFAR-10 Batch 1:  Training Accuracy:  94.1% | Validation Accuracy:  55.5%\n",
      "Epoch 33, CIFAR-10 Batch 2:  Training Accuracy:  93.4% | Validation Accuracy:  57.0%\n",
      "Epoch 33, CIFAR-10 Batch 3:  Training Accuracy:  92.3% | Validation Accuracy:  57.7%\n",
      "Epoch 33, CIFAR-10 Batch 4:  Training Accuracy:  98.3% | Validation Accuracy:  61.3%\n",
      "Epoch 33, CIFAR-10 Batch 5:  Training Accuracy:  97.2% | Validation Accuracy:  57.9%\n",
      "Epoch 34, CIFAR-10 Batch 1:  Training Accuracy:  97.2% | Validation Accuracy:  60.3%\n",
      "Epoch 34, CIFAR-10 Batch 2:  Training Accuracy:  97.9% | Validation Accuracy:  61.9%\n",
      "Epoch 34, CIFAR-10 Batch 3:  Training Accuracy:  98.6% | Validation Accuracy:  61.2%\n",
      "Epoch 34, CIFAR-10 Batch 4:  Training Accuracy:  98.1% | Validation Accuracy:  59.1%\n",
      "Epoch 34, CIFAR-10 Batch 5:  Training Accuracy:  97.2% | Validation Accuracy:  58.3%\n",
      "Epoch 35, CIFAR-10 Batch 1:  Training Accuracy:  96.5% | Validation Accuracy:  57.8%\n",
      "Epoch 35, CIFAR-10 Batch 2:  Training Accuracy:  91.6% | Validation Accuracy:  56.4%\n",
      "Epoch 35, CIFAR-10 Batch 3:  Training Accuracy:  98.4% | Validation Accuracy:  60.7%\n",
      "Epoch 35, CIFAR-10 Batch 4:  Training Accuracy:  95.0% | Validation Accuracy:  58.7%\n",
      "Epoch 35, CIFAR-10 Batch 5:  Training Accuracy:  98.8% | Validation Accuracy:  61.5%\n",
      "Epoch 36, CIFAR-10 Batch 1:  Training Accuracy:  97.6% | Validation Accuracy:  60.6%\n",
      "Epoch 36, CIFAR-10 Batch 2:  Training Accuracy:  98.0% | Validation Accuracy:  60.9%\n",
      "Epoch 36, CIFAR-10 Batch 3:  Training Accuracy:  98.8% | Validation Accuracy:  62.4%\n",
      "Epoch 36, CIFAR-10 Batch 4:  Training Accuracy:  98.8% | Validation Accuracy:  62.0%\n",
      "Epoch 36, CIFAR-10 Batch 5:  Training Accuracy:  99.6% | Validation Accuracy:  63.1%\n",
      "Epoch 37, CIFAR-10 Batch 1:  Training Accuracy:  98.9% | Validation Accuracy:  63.0%\n",
      "Epoch 37, CIFAR-10 Batch 2:  Training Accuracy:  99.8% | Validation Accuracy:  63.6%\n",
      "Epoch 37, CIFAR-10 Batch 3:  Training Accuracy:  99.6% | Validation Accuracy:  63.9%\n",
      "Epoch 37, CIFAR-10 Batch 4:  Training Accuracy:  99.3% | Validation Accuracy:  61.9%\n",
      "Epoch 37, CIFAR-10 Batch 5:  Training Accuracy:  99.3% | Validation Accuracy:  62.7%\n",
      "Epoch 38, CIFAR-10 Batch 1:  Training Accuracy:  99.8% | Validation Accuracy:  64.0%\n",
      "Epoch 38, CIFAR-10 Batch 2:  Training Accuracy:  99.3% | Validation Accuracy:  62.5%\n",
      "Epoch 38, CIFAR-10 Batch 3:  Training Accuracy:  99.6% | Validation Accuracy:  62.7%\n",
      "Epoch 38, CIFAR-10 Batch 4:  Training Accuracy:  99.4% | Validation Accuracy:  61.9%\n",
      "Epoch 38, CIFAR-10 Batch 5:  Training Accuracy:  99.4% | Validation Accuracy:  60.7%\n",
      "Epoch 39, CIFAR-10 Batch 1:  Training Accuracy:  98.6% | Validation Accuracy:  60.4%\n",
      "Epoch 39, CIFAR-10 Batch 2:  Training Accuracy:  96.9% | Validation Accuracy:  57.0%\n",
      "Epoch 39, CIFAR-10 Batch 3:  Training Accuracy:  97.9% | Validation Accuracy:  57.1%\n",
      "Epoch 39, CIFAR-10 Batch 4:  Training Accuracy:  98.5% | Validation Accuracy:  57.7%\n",
      "Epoch 39, CIFAR-10 Batch 5:  Training Accuracy:  97.8% | Validation Accuracy:  58.9%\n",
      "Epoch 40, CIFAR-10 Batch 1:  Training Accuracy:  99.4% | Validation Accuracy:  63.2%\n",
      "Epoch 40, CIFAR-10 Batch 2:  Training Accuracy:  98.9% | Validation Accuracy:  62.6%\n",
      "Epoch 40, CIFAR-10 Batch 3:  Training Accuracy:  99.9% | Validation Accuracy:  63.0%\n",
      "Epoch 40, CIFAR-10 Batch 4:  Training Accuracy:  99.1% | Validation Accuracy:  62.1%\n",
      "Epoch 40, CIFAR-10 Batch 5:  Training Accuracy:  99.3% | Validation Accuracy:  61.5%\n",
      "Epoch 41, CIFAR-10 Batch 1:  Training Accuracy:  98.4% | Validation Accuracy:  62.4%\n",
      "Epoch 41, CIFAR-10 Batch 2:  Training Accuracy:  99.8% | Validation Accuracy:  62.6%\n",
      "Epoch 41, CIFAR-10 Batch 3:  Training Accuracy:  99.4% | Validation Accuracy:  59.9%\n",
      "Epoch 41, CIFAR-10 Batch 4:  Training Accuracy:  99.1% | Validation Accuracy:  61.4%\n",
      "Epoch 41, CIFAR-10 Batch 5:  Training Accuracy:  99.3% | Validation Accuracy:  62.5%\n",
      "Epoch 42, CIFAR-10 Batch 1:  Training Accuracy:  99.6% | Validation Accuracy:  61.8%\n",
      "Epoch 42, CIFAR-10 Batch 2:  Training Accuracy:  99.8% | Validation Accuracy:  62.2%\n",
      "Epoch 42, CIFAR-10 Batch 3:  Training Accuracy:  99.8% | Validation Accuracy:  63.8%\n",
      "Epoch 42, CIFAR-10 Batch 4:  Training Accuracy:  99.4% | Validation Accuracy:  63.0%\n",
      "Epoch 42, CIFAR-10 Batch 5:  Training Accuracy: 100.0% | Validation Accuracy:  63.6%\n",
      "Epoch 43, CIFAR-10 Batch 1:  Training Accuracy: 100.0% | Validation Accuracy:  63.6%\n",
      "Epoch 43, CIFAR-10 Batch 2:  Training Accuracy: 100.0% | Validation Accuracy:  64.6%\n",
      "Epoch 43, CIFAR-10 Batch 3:  Training Accuracy: 100.0% | Validation Accuracy:  64.1%\n",
      "Epoch 43, CIFAR-10 Batch 4:  Training Accuracy:  99.6% | Validation Accuracy:  64.7%\n",
      "Epoch 43, CIFAR-10 Batch 5:  Training Accuracy: 100.0% | Validation Accuracy:  65.2%\n",
      "Epoch 44, CIFAR-10 Batch 1:  Training Accuracy: 100.0% | Validation Accuracy:  65.4%\n",
      "Epoch 44, CIFAR-10 Batch 2:  Training Accuracy: 100.0% | Validation Accuracy:  66.4%\n",
      "Epoch 44, CIFAR-10 Batch 3:  Training Accuracy: 100.0% | Validation Accuracy:  64.9%\n",
      "Epoch 44, CIFAR-10 Batch 4:  Training Accuracy: 100.0% | Validation Accuracy:  65.7%\n",
      "Epoch 44, CIFAR-10 Batch 5:  Training Accuracy: 100.0% | Validation Accuracy:  65.1%\n",
      "Epoch 45, CIFAR-10 Batch 1:  Training Accuracy: 100.0% | Validation Accuracy:  65.6%\n",
      "Epoch 45, CIFAR-10 Batch 2:  Training Accuracy: 100.0% | Validation Accuracy:  66.5%\n",
      "Epoch 45, CIFAR-10 Batch 3:  Training Accuracy: 100.0% | Validation Accuracy:  66.1%\n",
      "Epoch 45, CIFAR-10 Batch 4:  Training Accuracy:  99.9% | Validation Accuracy:  63.9%\n",
      "Epoch 45, CIFAR-10 Batch 5:  Training Accuracy: 100.0% | Validation Accuracy:  64.8%\n",
      "Epoch 46, CIFAR-10 Batch 1:  Training Accuracy: 100.0% | Validation Accuracy:  65.3%\n",
      "Epoch 46, CIFAR-10 Batch 2:  Training Accuracy: 100.0% | Validation Accuracy:  64.5%\n",
      "Epoch 46, CIFAR-10 Batch 3:  Training Accuracy: 100.0% | Validation Accuracy:  62.8%\n",
      "Epoch 46, CIFAR-10 Batch 4:  Training Accuracy:  99.8% | Validation Accuracy:  63.0%\n",
      "Epoch 46, CIFAR-10 Batch 5:  Training Accuracy: 100.0% | Validation Accuracy:  64.7%\n",
      "Epoch 47, CIFAR-10 Batch 1:  Training Accuracy:  99.6% | Validation Accuracy:  61.8%\n",
      "Epoch 47, CIFAR-10 Batch 2:  Training Accuracy:  99.5% | Validation Accuracy:  61.4%\n",
      "Epoch 47, CIFAR-10 Batch 3:  Training Accuracy:  98.8% | Validation Accuracy:  57.7%\n",
      "Epoch 47, CIFAR-10 Batch 4:  Training Accuracy:  93.9% | Validation Accuracy:  55.3%\n",
      "Epoch 47, CIFAR-10 Batch 5:  Training Accuracy:  97.9% | Validation Accuracy:  57.1%\n",
      "Epoch 48, CIFAR-10 Batch 1:  Training Accuracy:  89.2% | Validation Accuracy:  51.6%\n",
      "Epoch 48, CIFAR-10 Batch 2:  Training Accuracy:  94.1% | Validation Accuracy:  55.7%\n",
      "Epoch 48, CIFAR-10 Batch 3:  Training Accuracy:  96.4% | Validation Accuracy:  58.2%\n",
      "Epoch 48, CIFAR-10 Batch 4:  Training Accuracy:  98.6% | Validation Accuracy:  60.1%\n",
      "Epoch 48, CIFAR-10 Batch 5:  Training Accuracy:  99.0% | Validation Accuracy:  61.2%\n",
      "Epoch 49, CIFAR-10 Batch 1:  Training Accuracy:  98.9% | Validation Accuracy:  61.6%\n",
      "Epoch 49, CIFAR-10 Batch 2:  Training Accuracy:  98.4% | Validation Accuracy:  62.8%\n",
      "Epoch 49, CIFAR-10 Batch 3:  Training Accuracy:  99.8% | Validation Accuracy:  63.3%\n",
      "Epoch 49, CIFAR-10 Batch 4:  Training Accuracy:  99.9% | Validation Accuracy:  63.1%\n",
      "Epoch 49, CIFAR-10 Batch 5:  Training Accuracy:  99.9% | Validation Accuracy:  63.9%\n",
      "Epoch 50, CIFAR-10 Batch 1:  Training Accuracy:  99.8% | Validation Accuracy:  64.6%\n",
      "Epoch 50, CIFAR-10 Batch 2:  Training Accuracy:  99.9% | Validation Accuracy:  64.1%\n",
      "Epoch 50, CIFAR-10 Batch 3:  Training Accuracy: 100.0% | Validation Accuracy:  64.4%\n",
      "Epoch 50, CIFAR-10 Batch 4:  Training Accuracy: 100.0% | Validation Accuracy:  63.8%\n",
      "Epoch 50, CIFAR-10 Batch 5:  Training Accuracy: 100.0% | Validation Accuracy:  65.4%\n"
     ]
    }
   ],
   "source": [
    "\"\"\"\n",
    "DON'T MODIFY ANYTHING IN THIS CELL\n",
    "\"\"\"\n",
    "save_model_path = './image_classification'\n",
    "\n",
    "print('Training...')\n",
    "with tf.Session() as sess:\n",
    "    # Initializing the variables\n",
    "    sess.run(tf.global_variables_initializer())\n",
    "    \n",
    "    # Training cycle\n",
    "    for epoch in range(epochs):\n",
    "        # Loop over all batches\n",
    "        n_batches = 5\n",
    "        for batch_i in range(1, n_batches + 1):\n",
    "            for batch_features, batch_labels in helper.load_preprocess_training_batch(batch_i, batch_size):\n",
    "                train_neural_network(sess, optimizer, keep_probability, batch_features, batch_labels)\n",
    "            print('Epoch {:>2}, CIFAR-10 Batch {}:  '.format(epoch + 1, batch_i), end='')\n",
    "            print_stats(sess, batch_features, batch_labels, cost, accuracy)\n",
    "            \n",
    "    # Save Model\n",
    "    saver = tf.train.Saver()\n",
    "    save_path = saver.save(sess, save_model_path)"
   ]
  },
  {
   "cell_type": "markdown",
   "metadata": {
    "deletable": true,
    "editable": true
   },
   "source": [
    "# Checkpoint\n",
    "The model has been saved to disk.\n",
    "## Test Model\n",
    "Test your model against the test dataset.  This will be your final accuracy. You should have an accuracy greater than 50%. If you don't, keep tweaking the model architecture and parameters."
   ]
  },
  {
   "cell_type": "code",
   "execution_count": 18,
   "metadata": {
    "collapsed": false,
    "deletable": true,
    "editable": true
   },
   "outputs": [
    {
     "name": "stdout",
     "output_type": "stream",
     "text": [
      "Testing Accuracy: 0.6507179439067841\n",
      "\n"
     ]
    },
    {
     "data": {
      "image/png": "[encoded data removed]",
      "text/plain": [
       "<matplotlib.figure.Figure at 0x7fdb2bdb9f28>"
      ]
     },
     "metadata": {
      "image/png": {
       "height": 319,
       "width": 355
      }
     },
     "output_type": "display_data"
    }
   ],
   "source": [
    "\"\"\"\n",
    "DON'T MODIFY ANYTHING IN THIS CELL\n",
    "\"\"\"\n",
    "%matplotlib inline\n",
    "%config InlineBackend.figure_format = 'retina'\n",
    "\n",
    "import tensorflow as tf\n",
    "import pickle\n",
    "import helper\n",
    "import random\n",
    "\n",
    "# Set batch size if not already set\n",
    "try:\n",
    "    if batch_size:\n",
    "        pass\n",
    "except NameError:\n",
    "    batch_size = 64\n",
    "\n",
    "save_model_path = './image_classification'\n",
    "n_samples = 4\n",
    "top_n_predictions = 3\n",
    "\n",
    "def test_model():\n",
    "    \"\"\"\n",
    "    Test the saved model against the test dataset\n",
    "    \"\"\"\n",
    "\n",
    "    test_features, test_labels = pickle.load(open('preprocess_training.p', mode='rb'))\n",
    "    loaded_graph = tf.Graph()\n",
    "\n",
    "    with tf.Session(graph=loaded_graph) as sess:\n",
    "        # Load model\n",
    "        loader = tf.train.import_meta_graph(save_model_path + '.meta')\n",
    "        loader.restore(sess, save_model_path)\n",
    "\n",
    "        # Get Tensors from loaded model\n",
    "        loaded_x = loaded_graph.get_tensor_by_name('x:0')\n",
    "        loaded_y = loaded_graph.get_tensor_by_name('y:0')\n",
    "        loaded_keep_prob = loaded_graph.get_tensor_by_name('keep_prob:0')\n",
    "        loaded_logits = loaded_graph.get_tensor_by_name('logits:0')\n",
    "        loaded_acc = loaded_graph.get_tensor_by_name('accuracy:0')\n",
    "        \n",
    "        # Get accuracy in batches for memory limitations\n",
    "        test_batch_acc_total = 0\n",
    "        test_batch_count = 0\n",
    "        \n",
    "        for train_feature_batch, train_label_batch in helper.batch_features_labels(test_features, test_labels, batch_size):\n",
    "            test_batch_acc_total += sess.run(\n",
    "                loaded_acc,\n",
    "                feed_dict={loaded_x: train_feature_batch, loaded_y: train_label_batch, loaded_keep_prob: 1.0})\n",
    "            test_batch_count += 1\n",
    "\n",
    "        print('Testing Accuracy: {}\\n'.format(test_batch_acc_total/test_batch_count))\n",
    "\n",
    "        # Print Random Samples\n",
    "        random_test_features, random_test_labels = tuple(zip(*random.sample(list(zip(test_features, test_labels)), n_samples)))\n",
    "        random_test_predictions = sess.run(\n",
    "            tf.nn.top_k(tf.nn.softmax(loaded_logits), top_n_predictions),\n",
    "            feed_dict={loaded_x: random_test_features, loaded_y: random_test_labels, loaded_keep_prob: 1.0})\n",
    "        helper.display_image_predictions(random_test_features, random_test_labels, random_test_predictions)\n",
    "\n",
    "\n",
    "test_model()"
   ]
  },
  {
   "cell_type": "markdown",
   "metadata": {
    "deletable": true,
    "editable": true
   },
   "source": [
    "## Why 50-80% Accuracy?\n",
    "You might be wondering why you can't get an accuracy any higher. First things first, 50% isn't bad for a simple CNN.  Pure guessing would get you 10% accuracy. However, you might notice people are getting scores [well above 80%](http://rodrigob.github.io/are_we_there_yet/build/classification_datasets_results.html#43494641522d3130).  That's because we haven't taught you all there is to know about neural networks. We still need to cover a few more techniques.\n",
    "## Submitting This Project\n",
    "When submitting this project, make sure to run all the cells before saving the notebook.  Save the notebook file as \"dlnd_image_classification.ipynb\" and save it as a HTML file under \"File\" -> \"Download as\".  Include the \"helper.py\" and \"problem_unittests.py\" files in your submission."
   ]
  }
 ],
 "metadata": {
  "kernelspec": {
   "display_name": "Python 3",
   "language": "python",
   "name": "python3"
  },
  "language_info": {
   "codemirror_mode": {
    "name": "ipython",
    "version": 3
   },
   "file_extension": ".py",
   "mimetype": "text/x-python",
   "name": "python",
   "nbconvert_exporter": "python",
   "pygments_lexer": "ipython3",
   "version": "3.5.2"
  },
  "widgets": {
   "state": {},
   "version": "1.1.2"
  }
 },
 "nbformat": 4,
 "nbformat_minor": 0
}
